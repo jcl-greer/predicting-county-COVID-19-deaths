{
 "cells": [
  {
   "cell_type": "markdown",
   "metadata": {},
   "source": [
    "## Feature Transformation and Applied ML "
   ]
  },
  {
   "cell_type": "code",
   "execution_count": 1,
   "metadata": {},
   "outputs": [],
   "source": [
    "import numpy as np \n",
    "import math \n",
    "import pandas as pd\n",
    "from itertools import combinations_with_replacement\n",
    "import matplotlib . pyplot as plt\n",
    "import statistics\n",
    "import ml_helpers as ml "
   ]
  },
  {
   "cell_type": "markdown",
   "metadata": {},
   "source": [
    "### 1. Data Prep"
   ]
  },
  {
   "cell_type": "code",
   "execution_count": 2,
   "metadata": {},
   "outputs": [
    {
     "name": "stdout",
     "output_type": "stream",
     "text": [
      "(1416, 266)\n"
     ]
    }
   ],
   "source": [
    "pd.set_option('display.max_rows', 5000)\n",
    "data = pd.read_csv('merged_county_data.csv')\n",
    "print(data.shape)"
   ]
  },
  {
   "cell_type": "code",
   "execution_count": 3,
   "metadata": {},
   "outputs": [
    {
     "data": {
      "text/plain": [
       "Unnamed: 0                                         0\n",
       "County_x                                           0\n",
       "State_x                                            0\n",
       "GEO_ID                                             0\n",
       "Total Population                                   0\n",
       "Minority Population                                0\n",
       "ratio_income_poverty (above 200% FPL)              0\n",
       "Total Bachelors Degree                             0\n",
       "Est Speak English Less than Well                   0\n",
       "Per Capita Income                                  0\n",
       "Est Civilians Insured                              0\n",
       "Est Percent Civilians Insured                      0\n",
       "Percent Households without Vehicle                 0\n",
       "Household Level - More People than Rooms (%)       0\n",
       "acs_county_code                                    0\n",
       "FIPS                                               0\n",
       "State_y                                            0\n",
       "County_y                                           0\n",
       "Deaths                                             4\n",
       "Years of Potential Life Lost Rate                  4\n",
       "95% CI - Low                                       4\n",
       "95% CI - High                                      4\n",
       "Quartile                                           0\n",
       "YPLL Rate (AIAN)                                1290\n",
       "YPLL Rate (AIAN) 95% CI - Low                   1290\n",
       "YPLL Rate (AIAN) 95% CI - High                  1290\n",
       "YPLL Rate (Asian)                               1194\n",
       "YPLL Rate (Asian) 95% CI - Low                  1194\n",
       "YPLL Rate (Asian) 95% CI - High                 1194\n",
       "YPLL Rate (Black)                                582\n",
       "YPLL Rate (Black) 95% CI - Low                   582\n",
       "YPLL Rate (Black) 95% CI - High                  582\n",
       "YPLL Rate (Hispanic)                             858\n",
       "YPLL Rate (Hispanic) 95% CI - Low                858\n",
       "YPLL Rate (Hispanic) 95% CI - High               858\n",
       "YPLL Rate (White)                                436\n",
       "YPLL Rate (White) 95% CI - Low                   436\n",
       "YPLL Rate (White) 95% CI - High                  436\n",
       "% Fair or Poor Health                              0\n",
       "95% CI - Low.1                                     0\n",
       "95% CI - High.1                                    0\n",
       "Quartile.1                                         0\n",
       "Average Number of Physically Unhealthy Days        0\n",
       "95% CI - Low.2                                     0\n",
       "95% CI - High.2                                    0\n",
       "Quartile.2                                         0\n",
       "Average Number of Mentally Unhealthy Days          0\n",
       "95% CI - Low.3                                     0\n",
       "95% CI - High.3                                    0\n",
       "Quartile.3                                         0\n",
       "Unreliable                                      1413\n",
       "% Low Birthweight                                  2\n",
       "95% CI - Low.4                                     2\n",
       "95% CI - High.4                                    2\n",
       "Quartile.4                                         0\n",
       "% LBW (AIAN)                                    1194\n",
       "% LBW (AIAN) 95% CI - Low                       1194\n",
       "% LBW (AIAN) 95% CI - High                      1194\n",
       "% LBW (Asian)                                    773\n",
       "% LBW (Asian) 95% CI - Low                       773\n",
       "% LBW (Asian) 95% CI - High                      773\n",
       "% LBW (Black)                                    371\n",
       "% LBW (Black) 95% CI - Low                       371\n",
       "% LBW (Black) 95% CI - High                      371\n",
       "% LBW (Hispanic)                                 375\n",
       "% LBW (Hispanic) 95% CI - Low                    375\n",
       "% LBW (Hispanic) 95% CI - High                   375\n",
       "% LBW (White)                                    189\n",
       "% LBW (White) 95% CI - Low                       189\n",
       "% LBW (White) 95% CI - High                      189\n",
       "% Smokers                                          0\n",
       "95% CI - Low.5                                     0\n",
       "95% CI - High.5                                    0\n",
       "Quartile.5                                         0\n",
       "% Adults with Obesity                              0\n",
       "95% CI - Low.6                                     0\n",
       "95% CI - High.6                                    0\n",
       "Quartile.6                                         0\n",
       "Food Environment Index                             2\n",
       "Quartile.7                                         0\n",
       "% Physically Inactive                              0\n",
       "95% CI - Low.7                                     0\n",
       "95% CI - High.7                                    0\n",
       "Quartile.8                                         0\n",
       "% With Access to Exercise Opportunities            0\n",
       "Quartile.9                                         0\n",
       "% Excessive Drinking                               0\n",
       "95% CI - Low.8                                     0\n",
       "95% CI - High.8                                    0\n",
       "Quartile.10                                        0\n",
       "# Alcohol-Impaired Driving Deaths                  1\n",
       "# Driving Deaths                                   1\n",
       "% Driving Deaths with Alcohol Involvement          1\n",
       "95% CI - Low.9                                     1\n",
       "95% CI - High.9                                    1\n",
       "Quartile.11                                        0\n",
       "# Chlamydia Cases                                  5\n",
       "Chlamydia Rate                                     5\n",
       "Quartile.12                                        0\n",
       "Teen Birth Rate                                    4\n",
       "95% CI - Low.10                                    4\n",
       "95% CI - High.10                                   4\n",
       "Quartile.13                                        0\n",
       "Teen Birth Rate (AIAN)                          1190\n",
       "Teen Birth Rate (AIAN) 95% CI - Low             1190\n",
       "Teen Birth Rate (AIAN) 95% CI - High            1190\n",
       "Teen Birth Rate (Asian)                         1131\n",
       "Teen Birth Rate (Asian) 95% CI - Low            1131\n",
       "Teen Birth Rate (Asian) 95% CI - High           1131\n",
       "Teen Birth Rate (Black)                          407\n",
       "Teen Birth Rate (Black) 95% CI - Low             407\n",
       "Teen Birth Rate (Black) 95% CI - High            407\n",
       "Teen Birth Rate (Hispanic)                       322\n",
       "Teen Birth Rate (Hispanic) 95% CI - Low          322\n",
       "Teen Birth Rate (Hispanic) 95% CI - High         322\n",
       "Teen Birth Rate (White)                          181\n",
       "Teen Birth Rate (White) 95% CI - Low             181\n",
       "Teen Birth Rate (White) 95% CI - High            181\n",
       "# Uninsured                                        0\n",
       "% Uninsured                                        0\n",
       "95% CI - Low.11                                    0\n",
       "95% CI - High.11                                   0\n",
       "Quartile.14                                        0\n",
       "# Primary Care Physicians                          8\n",
       "Primary Care Physicians Rate                       6\n",
       "Primary Care Physicians Ratio                      6\n",
       "Quartile.15                                        0\n",
       "# Dentists                                         4\n",
       "Dentist Rate                                       4\n",
       "Dentist Ratio                                      4\n",
       "Quartile.16                                        0\n",
       "# Mental Health Providers                         13\n",
       "Mental Health Provider Rate                       13\n",
       "Mental Health Provider Ratio                      13\n",
       "Quartile.17                                        0\n",
       "Preventable Hospitalization Rate                   0\n",
       "Quartile.18                                        0\n",
       "Preventable Hosp. Rate (AIAN)                   1159\n",
       "Preventable Hosp. Rate (Asian)                  1012\n",
       "Preventable Hosp. Rate (Black)                   393\n",
       "Preventable Hosp. Rate (Hispanic)                624\n",
       "Preventable Hosp. Rate (White)                   243\n",
       "% With Annual Mammogram                            0\n",
       "Quartile.19                                        0\n",
       "% Screened (AIAN)                               1147\n",
       "% Screened (Asian)                               644\n",
       "% Screened (Black)                               353\n",
       "% Screened (Hispanic)                            461\n",
       "% Screened (White)                               187\n",
       "% Vaccinated                                       0\n",
       "Quartile.20                                        0\n",
       "% Vaccinated (AIAN)                              979\n",
       "% Vaccinated (Asian)                             457\n",
       "% Vaccinated (Black)                             203\n",
       "% Vaccinated (Hispanic)                          258\n",
       "% Vaccinated (White)                              90\n",
       "Cohort Size                                      190\n",
       "High School Graduation Rate                        5\n",
       "Quartile.21                                        0\n",
       "# Some College                                     0\n",
       "Population                                         0\n",
       "% Some College                                     0\n",
       "95% CI - Low.12                                   33\n",
       "95% CI - High.12                                  33\n",
       "Quartile.22                                        0\n",
       "# Unemployed                                       0\n",
       "Labor Force                                        0\n",
       "% Unemployed                                       0\n",
       "Quartile.23                                        0\n",
       "% Children in Poverty                              0\n",
       "95% CI - Low.13                                    0\n",
       "95% CI - High.13                                   0\n",
       "Quartile.24                                        0\n",
       "% Children in Poverty (AIAN)                     879\n",
       "% Children in Poverty (Asian)                    660\n",
       "% Children in Poverty (Black)                    219\n",
       "% Children in Poverty (Hispanic)                  82\n",
       "% Children in Poverty (White)                     28\n",
       "80th Percentile Income                             0\n",
       "20th Percentile Income                             0\n",
       "Income Ratio                                       0\n",
       "Quartile.25                                        0\n",
       "# Single-Parent Households                         0\n",
       "# Households                                       0\n",
       "% Single-Parent Households                         0\n",
       "95% CI - Low.14                                    0\n",
       "95% CI - High.14                                   0\n",
       "Quartile.26                                        0\n",
       "# Associations                                     0\n",
       "Social Association Rate                            0\n",
       "Quartile.27                                        0\n",
       "Annual Average Violent Crimes                     53\n",
       "Violent Crime Rate                                53\n",
       "Quartile.28                                        0\n",
       "# Injury Deaths                                    2\n",
       "Injury Death Rate                                  2\n",
       "95% CI - Low.15                                    2\n",
       "95% CI - High.15                                   2\n",
       "Quartile.29                                        0\n",
       "Injury Death Rate (AIAN)                        1259\n",
       "Injury Death Rate (AIAN) 95% CI - Low           1259\n",
       "Injury Death Rate (AIAN) 95% CI - High          1259\n",
       "Injury Death Rate (Asian)                       1146\n",
       "Injury Death Rate (Asian) 95% CI - Low          1146\n",
       "Injury Death Rate (Asian) 95% CI - High         1146\n",
       "Injury Death Rate (Black)                        572\n",
       "Injury Death Rate (Black) 95% CI - Low           572\n",
       "Injury Death Rate (Black) 95% CI - High          572\n",
       "Injury Death Rate (Hispanic)                     773\n",
       "Injury Death Rate (Hispanic) 95% CI - Low        773\n",
       "Injury Death Rate (Hispanic) 95% CI - High       773\n",
       "Injury Death Rate (White)                        403\n",
       "Injury Death Rate (White) 95% CI - Low           403\n",
       "Injury Death Rate (White) 95% CI - High          403\n",
       "Average Daily PM2.5                                5\n",
       "Quartile.30                                        0\n",
       "Presence of Water Violation                       28\n",
       "Quartile.31                                        0\n",
       "% Severe Housing Problems                          0\n",
       "95% CI - Low.16                                    0\n",
       "95% CI - High.16                                   0\n",
       "Severe Housing Cost Burden                         0\n",
       "Severe Housing Cost Burden 95% CI - Low            0\n",
       "Severe Housing Cost Burden 95% CI - High           0\n",
       "Overcrowding                                       0\n",
       "Overcrowding 95% CI - Low                          0\n",
       "Overcrowding 95% CI - High                         0\n",
       "Inadequate Facilities                              0\n",
       "Inadequate Facilities 95% CI - Low                 0\n",
       "Inadequate Facilities 95% CI - High                0\n",
       "Quartile.32                                        0\n",
       "% Drive Alone to Work                              0\n",
       "95% CI - Low.17                                    0\n",
       "95% CI - High.17                                   0\n",
       "Quartile.33                                        0\n",
       "% Drive Alone (AIAN)                            1148\n",
       "% Drive Alone (AIAN) 95% CI - Low               1148\n",
       "% Drive Alone (AIAN) 95% CI - High              1148\n",
       "% Drive Alone (Asian)                            872\n",
       "% Drive Alone (Asian) 95% CI - Low               872\n",
       "% Drive Alone (Asian) 95% CI - High              872\n",
       "% Drive Alone (Black)                            493\n",
       "% Drive Alone (Black) 95% CI - Low               493\n",
       "% Drive Alone (Black) 95% CI - High              493\n",
       "% Drive Alone (Hispanic)                         464\n",
       "% Drive Alone (Hispanic) 95% CI - Low            464\n",
       "% Drive Alone (Hispanic) 95% CI - High           464\n",
       "% Drive Alone (White)                            254\n",
       "% Drive Alone (White) 95% CI - Low               254\n",
       "% Drive Alone (White) 95% CI - High              254\n",
       "# Workers who Drive Alone                          0\n",
       "% Long Commute - Drives Alone                      0\n",
       "95% CI - Low.18                                    0\n",
       "95% CI - High.18                                   0\n",
       "Quartile.34                                        0\n",
       "Date as of                                         0\n",
       "First week                                         0\n",
       "Last week                                          0\n",
       "State                                              0\n",
       "County name                                        0\n",
       "FIPS County Code                                   0\n",
       "Urban Rural Code                                   0\n",
       "Deaths involving COVID-19                          0\n",
       "Deaths from All Causes                             0\n",
       "new_FIPS                                           0\n",
       "state_code                                         0\n",
       "dtype: int64"
      ]
     },
     "execution_count": 3,
     "metadata": {},
     "output_type": "execute_result"
    }
   ],
   "source": [
    "#Checking columns for nas\n",
    "data.isna().sum()"
   ]
  },
  {
   "cell_type": "code",
   "execution_count": 4,
   "metadata": {},
   "outputs": [],
   "source": [
    "cols_to_drop = [\n",
    "    'Unnamed: 0',                                      \n",
    "    'acs_county_code',                                 \n",
    "    'FIPS',                                            \n",
    "    '95% CI - Low',                                    \n",
    "    '95% CI - High',                                   \n",
    "    'Quartile',                                        \n",
    "    '95% CI - Low.1',                                  \n",
    "    '95% CI - High.1',                                 \n",
    "    'Quartile.1',                                      \n",
    "    '95% CI - Low.2',                                  \n",
    "    '95% CI - High.2',                                 \n",
    "    'Quartile.2',                                      \n",
    "    '95% CI - Low.3',                                  \n",
    "    '95% CI - High.3',                                 \n",
    "    'Quartile.3',                                      \n",
    "    '95% CI - Low.4',                                  \n",
    "    '95% CI - High.4',                                 \n",
    "    'Quartile.4',                                      \n",
    "    '95% CI - Low.5',                                  \n",
    "    '95% CI - High.5',                                 \n",
    "    'Quartile.5',                                      \n",
    "    '95% CI - Low.6',                              \n",
    "    '95% CI - High.6',                                 \n",
    "    'Quartile.6',                                      \n",
    "    'Quartile.7',                                      \n",
    "    '95% CI - Low.7',                                  \n",
    "    '95% CI - High.7',                                 \n",
    "    'Quartile.8',                                      \n",
    "    'Quartile.9',                                      \n",
    "    '95% CI - Low.8',                                  \n",
    "    '95% CI - High.8',                                 \n",
    "    'Quartile.10',                                     \n",
    "    '95% CI - Low.9',                                  \n",
    "    '95% CI - High.9',                                 \n",
    "    'Quartile.11',                                     \n",
    "    'Quartile.12',                                     \n",
    "    '95% CI - Low.10',                                 \n",
    "    '95% CI - High.10',                                \n",
    "    'Quartile.13',                                     \n",
    "    '95% CI - Low.11',                                 \n",
    "    '95% CI - High.11',                                \n",
    "    'Quartile.14',                                     \n",
    "    'Quartile.15',                                     \n",
    "    'Quartile.16',                                     \n",
    "    'Quartile.17',                                         \n",
    "    'Quartile.18',                                     \n",
    "    'Quartile.19',                                     \n",
    "    'Quartile.20',                                     \n",
    "    'Quartile.21',                                     \n",
    "    'Quartile.22',                                     \n",
    "    'Quartile.23',                                     \n",
    "    '95% CI - Low.13',                                 \n",
    "    '95% CI - High.13',                                \n",
    "    'Quartile.24',                                     \n",
    "    '80th Percentile Income',                          \n",
    "    '20th Percentile Income',                          \n",
    "    'Quartile.25',                                     \n",
    "    '95% CI - Low.14',                                 \n",
    "    '95% CI - High.14',                                \n",
    "    'Quartile.26',                                     \n",
    "    'Quartile.27',                                     \n",
    "    'Quartile.28',                                     \n",
    "    '95% CI - Low.15',                                 \n",
    "    '95% CI - High.15',                                \n",
    "    'Quartile.29',                                     \n",
    "    'Quartile.30',                                     \n",
    "    'Quartile.31',                                     \n",
    "    '95% CI - Low.16',                                 \n",
    "    '95% CI - High.16',                                \n",
    "    'Quartile.32',                                     \n",
    "    '95% CI - Low.17',                                 \n",
    "    '95% CI - High.17',                                \n",
    "    'Quartile.33',                                     \n",
    "    '95% CI - Low.18',                                 \n",
    "    '95% CI - High.18',                                \n",
    "    'Quartile.34',                                     \n",
    "    'FIPS County Code',                                \n",
    "    'new_FIPS',                                             \n",
    "]"
   ]
  },
  {
   "cell_type": "code",
   "execution_count": 5,
   "metadata": {},
   "outputs": [
    {
     "name": "stdout",
     "output_type": "stream",
     "text": [
      "202\n",
      "(1396, 68)\n"
     ]
    }
   ],
   "source": [
    "#Dropping columns that are not pertinent or contain a lot of nas \n",
    "columns = list(data)\n",
    "cleaned_data = data.copy(deep=True)\n",
    "\n",
    "for c in columns:\n",
    "    if data[c].dtypes == 'object':\n",
    "        cols_to_drop.append(c)\n",
    "    if data[c].isna().sum() > 5:\n",
    "        cols_to_drop.append(c)\n",
    "\n",
    "print(len(cols_to_drop))\n",
    "cleaned_data = data.drop(cols_to_drop, axis=1)\n",
    "\n",
    "cleaned_data = cleaned_data.dropna()\n",
    "print(cleaned_data.shape)"
   ]
  },
  {
   "cell_type": "markdown",
   "metadata": {},
   "source": [
    "### 2. Splitting the Data Randomly and by State"
   ]
  },
  {
   "cell_type": "code",
   "execution_count": 6,
   "metadata": {},
   "outputs": [],
   "source": [
    "#ca_set generated for state-level cross validation\n",
    "ca_set = cleaned_data.loc[cleaned_data['state_code'] == 6]\n",
    "ca_set_labels = ca_set[['Deaths involving COVID-19']]\n",
    "ca_set_features = ca_set.drop('Deaths involving COVID-19', axis=1)\n"
   ]
  },
  {
   "cell_type": "code",
   "execution_count": 7,
   "metadata": {},
   "outputs": [],
   "source": [
    "#nonca_set generated for state-level cross validation\n",
    "nonca_set = cleaned_data.loc[data['state_code'] != 6]\n",
    "nonca_set_labels = nonca_set[['Deaths involving COVID-19']]\n",
    "nonca_set_features = nonca_set.drop('Deaths involving COVID-19', axis=1)"
   ]
  },
  {
   "cell_type": "code",
   "execution_count": 8,
   "metadata": {},
   "outputs": [
    {
     "name": "stdout",
     "output_type": "stream",
     "text": [
      "(1396, 67)\n",
      "(1396, 1)\n"
     ]
    }
   ],
   "source": [
    "# create np version of X and y datasets from final data set for functions \n",
    "np_cleaned_data = cleaned_data.to_numpy(dtype=float)\n",
    "\n",
    "# column index for 'Deaths involving COVID-19' will change based on which cleaned data set is used/which\n",
    "# columns are dropped\n",
    "y = np_cleaned_data[:,65]\n",
    "y = y.reshape(y.shape[0],-1)\n",
    "X = np.delete(np_cleaned_data,65,1)\n",
    "print(X.shape)\n",
    "print(y.shape)"
   ]
  },
  {
   "cell_type": "code",
   "execution_count": 9,
   "metadata": {},
   "outputs": [],
   "source": [
    "#Random Split of the dataset \n",
    "X_train, X_test, y_train, y_test = ml.train_test_split(X, y, train_ratio=0.75)"
   ]
  },
  {
   "cell_type": "markdown",
   "metadata": {},
   "source": [
    "### 3. Applying Machine Learning Models to the Data "
   ]
  },
  {
   "cell_type": "code",
   "execution_count": 11,
   "metadata": {
    "scrolled": true
   },
   "outputs": [
    {
     "name": "stdout",
     "output_type": "stream",
     "text": [
      "30991.59613195624\n",
      "33385.09818070058\n",
      "32679.582374345944\n",
      "33243.5624862163\n",
      "32914.209734754615\n",
      "33060.73265498797\n",
      "32429.51780076548\n",
      "32957.071857257695\n"
     ]
    }
   ],
   "source": [
    "#Applying linear regression with cross validation \n",
    "\n",
    "model_func = ml.ls_linear_reg\n",
    "test_func = ml.ls_linear_reg_predict\n",
    "k_list = [3, 4, 5, 6, 7, 8, 9, 10]\n",
    "for k in k_list:\n",
    "    best_w, cv_err = ml.K_folds_cross_validation(X_train, X_test, y_train, y_test, model_func, test_func, folds=k, param=None)\n",
    "    print(cv_err)"
   ]
  },
  {
   "cell_type": "code",
   "execution_count": 12,
   "metadata": {},
   "outputs": [],
   "source": [
    "#Applying Linear Regression with cross validation and different train-test splits\n",
    "\n",
    "tt_results = []\n",
    "for t in range(0,101):\n",
    "    best_error = float('inf')\n",
    "    X_train, X_test, y_train, y_test = ml.train_test_split(X, y, train_ratio=0.75)\n",
    "    best_w, cv_err = ml.K_folds_cross_validation(X_train, X_test, y_train, y_test, model_func, test_func, folds=k, param=None)  \n",
    "    if cv_err < best_error:\n",
    "        best_error = cv_err\n",
    "    tt_results.append(best_error)\n",
    "    "
   ]
  },
  {
   "cell_type": "code",
   "execution_count": 13,
   "metadata": {},
   "outputs": [
    {
     "name": "stdout",
     "output_type": "stream",
     "text": [
      "31588.165148538028\n",
      "47305.191098119205\n"
     ]
    }
   ],
   "source": [
    "print(statistics.median(tt_results))\n",
    "print(statistics.mean(tt_results))"
   ]
  },
  {
   "cell_type": "code",
   "execution_count": 14,
   "metadata": {},
   "outputs": [],
   "source": [
    "def createlist(r1,r2):\n",
    "    return[i for i in range(r1,r2+1)]\n",
    "\n",
    "list100 = createlist(0,100)"
   ]
  },
  {
   "cell_type": "code",
   "execution_count": 15,
   "metadata": {},
   "outputs": [
    {
     "data": {
      "image/png": "[encoded data removed]",
      "text/plain": [
       "<Figure size 432x288 with 1 Axes>"
      ]
     },
     "metadata": {
      "needs_background": "light"
     },
     "output_type": "display_data"
    }
   ],
   "source": [
    "#Plotting linear regression cross-validation iterations with different train-test splits\n",
    "plt.plot(list100,tt_results,c='black')\n",
    "plt.ylabel('error rate')\n",
    "plt.xlabel('iteration')\n",
    "plt.suptitle('least squares regression error rates for train/test split iterations')\n",
    "plt.show()"
   ]
  },
  {
   "cell_type": "code",
   "execution_count": 16,
   "metadata": {},
   "outputs": [
    {
     "name": "stdout",
     "output_type": "stream",
     "text": [
      "The error is  15671005526.374313\n",
      "old best err: inf; new best err 15671005526.374313\n",
      "The error is  161075906614.82074\n",
      "The error is  22538901478.630257\n",
      "The error is  93999451234.5523\n",
      "The error is  3594385717609.2744\n",
      "The error is  241302790290.0989\n",
      "The error is  778998254804.5043\n",
      "The error is  167930732980.61407\n",
      "The error is  2023795560512.8108\n",
      "The error is  210457604513.4703\n",
      "The error is  22531672209.196533\n",
      "The error is  291362852776.10223\n",
      "The error is  220077531380.81238\n",
      "The error is  1265948397112.8352\n",
      "The error is  942590768555.4277\n",
      "The error is  87053000504.69801\n",
      "The error is  153345963216.81583\n",
      "The error is  21751250627.05762\n",
      "The error is  1157599239994.179\n",
      "The error is  141485724795.99194\n",
      "The error is  12050315984.739386\n",
      "old best err: 15671005526.374313; new best err 12050315984.739386\n",
      "The error is  66629147711.03541\n",
      "The error is  4780195919097.099\n",
      "The error is  35475516235.78586\n",
      "The error is  127553462798.51794\n",
      "The error is  340904864665.4859\n",
      "The error is  487525414633.1014\n",
      "The error is  337324771611.1946\n",
      "The error is  94716021611.10884\n",
      "The error is  20174658305.754684\n",
      "The error is  128146235204.81987\n",
      "The error is  30560802248.875645\n",
      "The error is  131078630677.53288\n",
      "The error is  78429204177.89716\n",
      "The error is  66226236805.32943\n",
      "The error is  82942454016.34445\n",
      "The error is  667738977780.824\n",
      "The error is  1627013216490.9424\n",
      "The error is  563329967436.9982\n",
      "The error is  515712636150.6127\n",
      "The error is  1031549502382.293\n",
      "The error is  409294026187.06757\n",
      "The error is  1704847452116.1577\n",
      "The error is  1333453915110.792\n",
      "The error is  147610880787.17194\n",
      "The error is  99808961463.07721\n",
      "The error is  1806095690122.0771\n",
      "The error is  93540420415.72905\n"
     ]
    }
   ],
   "source": [
    "#State Specific Cross Validation\n",
    "best_w, error = ml.by_states_cross_validation(nonca_set, ca_set_labels, ca_set_features, ml.ls_linear_reg, ml.mean_squared_error)"
   ]
  },
  {
   "cell_type": "code",
   "execution_count": 26,
   "metadata": {},
   "outputs": [],
   "source": [
    "p = [0, 0.001, 0.005, 0.01, 0.05, 0.1, 0.5, 1]\n",
    "\n",
    "# for pvalue in p:\n",
    "#     l, m = ml.by_states_cross_validation(nonca_set, ca_set_labels, ca_set_features, ml.ridge_regression, ml.mean_squared_error, p)\n"
   ]
  },
  {
   "cell_type": "code",
   "execution_count": 18,
   "metadata": {},
   "outputs": [
    {
     "name": "stdout",
     "output_type": "stream",
     "text": [
      "22692.225590037007\n",
      "22697.388931845802\n",
      "22715.2138525664\n",
      "22733.152599921534\n",
      "22822.832586243476\n",
      "22904.572999578875\n",
      "23312.990512496897\n",
      "23546.28205238904\n"
     ]
    }
   ],
   "source": [
    "### Applying Standard Ridge Regression across different parameters \n",
    "param_list = [0, 0.001, 0.005, 0.01, 0.05, 0.1, 0.5, 1]\n",
    "\n",
    "for p in param_list:\n",
    "    error, best_w = ml.ridge_regression(X_train, X_test, y_train, y_test, p)\n",
    "    print(error) \n"
   ]
  },
  {
   "cell_type": "code",
   "execution_count": 19,
   "metadata": {},
   "outputs": [
    {
     "name": "stdout",
     "output_type": "stream",
     "text": [
      "23994.65060631732\n",
      "23530.140780350226\n",
      "23491.626119821638\n",
      "23991.45207431247\n",
      "23906.515693610912\n",
      "23782.654738759553\n",
      "22844.725669825086\n",
      "22921.353757697092\n"
     ]
    }
   ],
   "source": [
    "#Applying ridge regression with cross validation and different parameters \n",
    "\n",
    "model_func = ml.ridge_regression\n",
    "test_func = ml.ridge_regression_predict\n",
    "k_list = [3, 4, 5, 6, 7, 8, 9, 10]\n",
    "param = [0.8]\n",
    "for k in k_list:\n",
    "    for pvalue in param:\n",
    "        best_w, error = ml.K_folds_cross_validation(X_train, X_test, y_train, y_test, model_func, test_func, folds=k, param=pvalue)\n",
    "        print(error)"
   ]
  },
  {
   "cell_type": "code",
   "execution_count": 20,
   "metadata": {},
   "outputs": [
    {
     "name": "stdout",
     "output_type": "stream",
     "text": [
      "[60690.12218320141, 15457.643421326617, 23992.74512903166, 43456.958394092704, 24890.091494160857, 30711.357700504617, 109157.5740683719, 77142.78825829121, 23818.743803376427, 16973.87329721079, 23134.201507448393, 16585.802582529934, 105119.65908991535, 55493.592844445164, 40408.30577821408, 138322.83913011028, 30851.798893086216, 36001.03401667611, 55847.35038460268, 52384.8927329255, 21697.514032721905, 25548.746849267907, 37147.321461988526, 81644.86388894798, 65979.34388840609, 31576.315668115818, 23259.63594385874, 25312.776573866362, 21030.082605003176, 187239.177770245, 30392.48919912487, 26353.00882307624, 71103.76988080006, 59924.15834087874, 38063.92767483718, 149217.2944697508, 30073.700323682166, 84142.74002071536, 27951.036560155328, 14688.187404377135, 20919.39149902184, 34504.41934082056, 45625.507533475706, 41169.02372262015, 32490.527249592444, 42371.511874691154, 40738.51474105541, 15464.02231438329, 20273.551206847656, 16335.214628707485, 118604.87494606772, 25002.021479885225, 26586.586140012096, 230183.3984511761, 30327.66887562256, 104994.48551244495, 26631.556477105543, 26185.303385089326, 25695.41885915355, 21977.25655615205, 34384.55553352568, 36346.64108409392, 31049.937495500602, 23679.18696218281, 24312.876639663617, 91552.80710606843, 54068.885039662724, 19599.090133780068, 24897.27680501311, 18355.137908816887, 28125.58677245083, 169437.22062000202, 14359.535277313755, 21177.021095380773, 150857.54530207792, 80544.68992985602, 22303.004525239343, 25052.845499752148, 98212.278646563, 24697.814394458775, 31406.628142764326, 51101.16184670984, 86195.1389771562, 32475.578191338027, 20349.165582025656, 86688.53099835114, 95110.32085657242, 139474.68771145225, 28140.32707649011, 86783.41781680437, 40512.701613564415, 94321.06662501043, 84213.16532233573, 170162.92538600139, 98554.89348205549, 31548.253376799265, 68089.78093087503, 130924.61963124415, 73710.11242558212, 49549.438857982335, 37680.18179234016]\n"
     ]
    }
   ],
   "source": [
    "#Applying cross validation ridge iterations with different train test splits \n",
    "\n",
    "tt_ridge_results = []\n",
    "for t in range(0,101):\n",
    "    best_error = float('inf')\n",
    "    X_train, X_test, y_train, y_test = ml.train_test_split(X, y, train_ratio=0.75)\n",
    "    best_w, error = ml.K_folds_cross_validation(X_train, X_test, y_train, y_test, model_func, test_func, folds=5, param=0.8)  \n",
    "    if error < best_error:\n",
    "        best_error = error\n",
    "    tt_ridge_results.append(best_error)\n",
    "    \n",
    "print(tt_ridge_results)\n",
    "            \n"
   ]
  },
  {
   "cell_type": "code",
   "execution_count": 21,
   "metadata": {},
   "outputs": [
    {
     "name": "stdout",
     "output_type": "stream",
     "text": [
      "34504.41934082056\n",
      "54543.30449800122\n"
     ]
    }
   ],
   "source": [
    "print(statistics.median(tt_ridge_results))\n",
    "print(statistics.mean(tt_ridge_results))"
   ]
  },
  {
   "cell_type": "code",
   "execution_count": 22,
   "metadata": {},
   "outputs": [
    {
     "data": {
      "image/png": "[encoded data removed]",
      "text/plain": [
       "<Figure size 432x288 with 1 Axes>"
      ]
     },
     "metadata": {
      "needs_background": "light"
     },
     "output_type": "display_data"
    }
   ],
   "source": [
    "#Plotting ridge regression cross-vali iterations with different train-test splits\n",
    "plt.plot(list100,tt_ridge_results,c='black')\n",
    "plt.ylabel('error rate')\n",
    "plt.xlabel('iteration')\n",
    "plt.suptitle('ridge regression error rates for train/test split iterations')\n",
    "plt.show()"
   ]
  },
  {
   "cell_type": "code",
   "execution_count": 23,
   "metadata": {},
   "outputs": [
    {
     "name": "stdout",
     "output_type": "stream",
     "text": [
      "for param 0, the error is 39099.08477142906\n",
      "for param 1e-05, the error is 39099.06513577629\n",
      "for param 5e-05, the error is 39098.98630683099\n",
      "for param 0.0001, the error is 39098.88713010954\n",
      "for param 0.0005, the error is 39098.06880842346\n",
      "for param 0.001, the error is 39096.98694950028\n",
      "for param 0.005, the error is 39086.53251487242\n",
      "for param 1, the error is 38872.94151572408\n",
      "for param 100, the error is 38936.32489486284\n",
      "for param 1000, the error is 38713.30197231858\n",
      "for param 5000, the error is 39016.20513007429\n",
      "38713.30197231858\n",
      "[[ 8.73345687e-02]\n",
      " [-2.52995788e-03]\n",
      " [-8.15143782e-04]\n",
      " [ 3.16934972e-03]\n",
      " [-1.84303375e-03]\n",
      " [-4.73985644e-04]\n",
      " [ 6.61226126e-04]\n",
      " [ 1.50416252e-03]\n",
      " [ 2.24401416e+00]\n",
      " [ 7.15129909e-01]\n",
      " [ 1.58460956e-02]\n",
      " [-1.56059687e-01]\n",
      " [ 7.78329277e-03]\n",
      " [ 4.77806482e+00]\n",
      " [-2.31151384e-02]\n",
      " [-2.03431310e+00]\n",
      " [ 4.92891089e+00]\n",
      " [-3.19061698e+00]\n",
      " [ 1.97242919e-01]\n",
      " [ 1.00283844e+00]\n",
      " [ 3.57804291e+00]\n",
      " [ 2.36325265e-01]\n",
      " [-1.86194855e-01]\n",
      " [-2.16109362e+00]\n",
      " [ 7.62219071e-02]\n",
      " [ 8.67792065e-01]\n",
      " [ 5.70592926e-02]\n",
      " [-4.98442595e-02]\n",
      " [ 5.64981861e-01]\n",
      " [ 2.47696805e-03]\n",
      " [ 5.68380035e-02]\n",
      " [-4.59298016e-01]\n",
      " [-5.60410598e-01]\n",
      " [ 2.93537525e-03]\n",
      " [ 1.45447855e+00]\n",
      " [ 6.33352145e-01]\n",
      " [-2.32756960e-01]\n",
      " [-4.76229249e-03]\n",
      " [ 7.27213070e-03]\n",
      " [ 2.48343784e-01]\n",
      " [ 1.15159774e-02]\n",
      " [-7.84856972e-03]\n",
      " [-1.17266236e+00]\n",
      " [-1.27849576e+00]\n",
      " [ 5.70012935e+00]\n",
      " [ 6.66601030e-03]\n",
      " [-2.06918422e-03]\n",
      " [-1.02283361e+00]\n",
      " [-1.43343443e-01]\n",
      " [ 1.52406459e+00]\n",
      " [-2.02685238e-01]\n",
      " [ 3.93028062e-01]\n",
      " [-3.46370653e+00]\n",
      " [ 1.49542171e+00]\n",
      " [ 9.19652112e-01]\n",
      " [ 4.73899942e+00]\n",
      " [-2.64216698e+00]\n",
      " [ 3.46342712e+00]\n",
      " [ 4.44163628e+00]\n",
      " [ 8.38743250e-01]\n",
      " [ 7.73564098e-01]\n",
      " [ 9.91007384e-01]\n",
      " [ 9.99504452e-02]\n",
      " [-7.89068165e+00]\n",
      " [ 5.79341222e-03]\n",
      " [ 2.65477011e+00]\n",
      " [ 3.42663462e-01]\n",
      " [-3.99583716e-01]]\n",
      "1000\n"
     ]
    }
   ],
   "source": [
    "#Running Through the Grid Search with ridge regression \n",
    "\n",
    "params = [0, 0.00001, 0.00005, 0.0001, 0.0005, 0.001, 0.005, 1,100,1000,5000]\n",
    "model_func = ml.ridge_regression\n",
    "test_func = ml.ridge_regression_predict\n",
    "\n",
    "error, best_w, best_param = ml.param_search(X_train, X_test, \n",
    "                                            y_train, y_test, model_func, \n",
    "                                            test_func, params, \n",
    "                                            cv_func=None, folds=None)\n",
    "print(error)\n",
    "print(best_w)\n",
    "print(best_param)"
   ]
  },
  {
   "cell_type": "code",
   "execution_count": 24,
   "metadata": {},
   "outputs": [
    {
     "name": "stdout",
     "output_type": "stream",
     "text": [
      "for param 0.01, the error is 9212983.663141863\n",
      "for param 0.1, the error is 9212983.834035506\n",
      "for param 0.25, the error is 9212984.11907099\n",
      "for param 0.5, the error is 9212984.593997998\n",
      "for param 0.7, the error is 9212984.97383989\n",
      "for param 0.9, the error is 9212985.353759335\n",
      "for param 1, the error is 9212985.543748146\n"
     ]
    }
   ],
   "source": [
    "#Sample call to polynomial param search with cross val function \n",
    "poly_x_train = ml.polynomial_expansion(X_train, 2)\n",
    "poly_x_test = ml.polynomial_expansion(X_test, 2)\n",
    "param_err, param_w, best_param = ml.param_search(poly_x_train, poly_x_test, y_train, y_test,\n",
    "                                               ml.ridge_regression, ml.ridge_regression_predict,\n",
    "                                               params=[0.01, 0.1, 0.25, 0.5, 0.7, 0.9, 1], \n",
    "                                               cv_func=None)"
   ]
  }
 ],
 "metadata": {
  "kernelspec": {
   "display_name": "Python 3",
   "language": "python",
   "name": "python3"
  },
  "language_info": {
   "codemirror_mode": {
    "name": "ipython",
    "version": 3
   },
   "file_extension": ".py",
   "mimetype": "text/x-python",
   "name": "python",
   "nbconvert_exporter": "python",
   "pygments_lexer": "ipython3",
   "version": "3.8.3"
  }
 },
 "nbformat": 4,
 "nbformat_minor": 2
}
