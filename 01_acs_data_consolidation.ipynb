{
 "cells": [
  {
   "cell_type": "markdown",
   "metadata": {},
   "source": [
    "### Merging and Cleaning the Dataset for Analysis"
   ]
  },
  {
   "cell_type": "code",
   "execution_count": 2,
   "metadata": {},
   "outputs": [],
   "source": [
    "import censusdata \n",
    "import pandas as pd \n",
    "import numpy as np\n",
    "import math"
   ]
  },
  {
   "cell_type": "markdown",
   "metadata": {},
   "source": [
    "### 1. Downloading Census Data "
   ]
  },
  {
   "cell_type": "code",
   "execution_count": 3,
   "metadata": {},
   "outputs": [],
   "source": [
    "#Use censusdata module to read in acs data \n",
    "ml_features = censusdata.download(\"acs5\", 2018, censusdata.censusgeo(\n",
    "    [(\"county\", \"*\")]), [\"B01003_001E\", \"B02001_001E\", \"B02001_002E\", \"B19301_001E\",\"C17002_008E\",\n",
    "                                         \"C17002_004E\", \"C17002_005E\", \"C17002_006E\", \"C17002_007E\", \"C17002_008E\", \n",
    "                                         \"B15003_022E\", \"B16005_007E\", \"B16005_008E\", \"B16005_012E\", \"B16005_013E\",\n",
    "                                         \"B16005_027E\", \"B16005_018E\", \"B16005_022E\", \"B16005_023E\", \"B16005_029E\", \"B16005_030E\",\n",
    "                                         \"B16005_034E\", \"B16005_035E\", \"B16005_039E\", \"B16005_040E\", \"B16005_044E\", \"B16005_045E\",\n",
    "                                         \"GEO_ID\", \"B23001_001E\"])\n",
    "\n",
    "\n",
    "var_dict = {\"B01003_001E\": \"Total Population\", \"B02001_002E\": \"White_Alone\", \"C17002_008E\": \"ratio_income_poverty (above 200% FPL)\", \n",
    "           \"B15003_022E\": \"Total Bachelors Degree\", \"B19301_001E\": \"Per Capita Income\"} "
   ]
  },
  {
   "cell_type": "code",
   "execution_count": 4,
   "metadata": {},
   "outputs": [],
   "source": [
    "#Rename variables for clarity \n",
    "ml_feat = ml_features.rename(columns=var_dict)"
   ]
  },
  {
   "cell_type": "code",
   "execution_count": 5,
   "metadata": {},
   "outputs": [],
   "source": [
    "#engineer features from acs data \n",
    "ml_feat['Minority Population'] = ml_feat['Total Population'] - ml_feat[\"White_Alone\"]\n",
    "ml_feat['Est Speak English Less than Well'] = ml_feat[\"B16005_007E\"] + ml_feat[\"B16005_008E\"] + ml_feat[\"B16005_012E\"] + ml_feat[\"B16005_013E\"] + \\\n",
    "                                              ml_feat[\"B16005_027E\"] + ml_feat[\"B16005_018E\"] + ml_feat[\"B16005_022E\"] + ml_feat[\"B16005_023E\"] + \\\n",
    "                                              ml_feat[\"B16005_029E\"] + ml_feat[\"B16005_030E\"] + ml_feat[\"B16005_034E\"] + \\\n",
    "                                              ml_feat[\"B16005_035E\"] + ml_feat[\"B16005_039E\"] + ml_feat[\"B16005_040E\"] + \\\n",
    "                                              ml_feat[\"B16005_044E\"] + ml_feat[\"B16005_045E\"] "
   ]
  },
  {
   "cell_type": "code",
   "execution_count": 6,
   "metadata": {},
   "outputs": [],
   "source": [
    "#Separate geographical units in acs data for joining / clarity \n",
    "ml_feats = ml_feat.reset_index()\n",
    "ml_feats[\"County\"] = ml_feats['index'].apply(lambda x: str(x).replace(\":\", \",\").split(\",\")[0])\n",
    "ml_feats[\"State\"] = ml_feats['index'].apply(lambda x: str(x).replace(\":\", \",\").split(\",\")[1].replace(\" \", \"\"))"
   ]
  },
  {
   "cell_type": "code",
   "execution_count": 7,
   "metadata": {},
   "outputs": [],
   "source": [
    "#Retain only necessary features for model \n",
    "ml_feats = ml_feats[[\"County\", \"State\", \"GEO_ID\", \"Total Population\", \"Minority Population\", 'ratio_income_poverty (above 200% FPL)', \n",
    "                    'Total Bachelors Degree', \"Est Speak English Less than Well\", \"Per Capita Income\"]]"
   ]
  },
  {
   "cell_type": "markdown",
   "metadata": {},
   "source": [
    "### 2. Merge Census Data with other socioeconomic datasets"
   ]
  },
  {
   "cell_type": "code",
   "execution_count": 8,
   "metadata": {},
   "outputs": [
    {
     "name": "stderr",
     "output_type": "stream",
     "text": [
      "C:\\Users\\richa\\Anaconda3\\lib\\site-packages\\IPython\\core\\interactiveshell.py:3058: DtypeWarning: Columns (36,37,40,41,46,47,50,51,64,67,68,69,70,71,72,73,74,75,76,77,78,79,80,81,82,83,84,85,86,87,88,89,90,91,92,93,94,95,96,97,98,99,100,101,102,103,104,105,106,107,108,109,110,111,112,113,114,115,116,117,118,119,120,121,122,123,124,125,126,127,128,129,130,131,132,133,134,135,136,137,138,139,140,141,142,143,144,145,146,147,148,149,150,151,152,153,154,155,156,157,158,159,160,161,162,163,164,165,166,167,168,169,170,171,172,173,174,175,176,177,178,179,180,181,182,183,184,185,186,187,188,189,190,191,192,193,194,195,196,197,198,199,200,201,202,203,204,205,206,207,208,209,210,211,212,213,214,215,216,230,231,234,235,240,241,244,245,250,251,254,255,280,281,284,285,370,371,372,373,374,375,376,377,378,379,380,381,382,383,384,385,386,387,388,389,390,391,392,393,394,395,396,397,398,399,400,401,402,403,404,405,406,407,408,409,410,411,412,413,414,415,416,441,442,445,446,481,482,485,486,542,543,544,545,546,547) have mixed types. Specify dtype option on import or set low_memory=False.\n",
      "  interactivity=interactivity, compiler=compiler, result=result)\n"
     ]
    }
   ],
   "source": [
    "#read in and modify health insurance data; join to acs \n",
    "health_insur = pd.read_csv(\"health_insur.csv\", dtype={'S2701_C02_001E':'Int64',\n",
    "                                                     'S2701_C03_001E':np.float64, \n",
    "                                                      \"GEO_ID\": \"str\"})\n",
    "\n",
    "health_insur = health_insur[['GEO_ID', 'S2701_C02_001E', 'S2701_C03_001E']]\n",
    "\n",
    "health_cols = {'S2701_C02_001E': \"Est Civilians Insured\", \n",
    "              'S2701_C03_001E': \"Est Percent Civilians Insured\"}\n",
    "\n",
    "health_insur.rename(columns=health_cols, inplace=True)\n",
    "\n",
    "feature_mat = ml_feats.join(health_insur.set_index(\"GEO_ID\"), on='GEO_ID', how=\"left\")"
   ]
  },
  {
   "cell_type": "code",
   "execution_count": 9,
   "metadata": {},
   "outputs": [],
   "source": [
    "#Read in and modify vehicle data; join to feature matrix \n",
    "vehicle_avail = pd.read_csv(\"vehicle_avail.csv\", dtype={\"B25044_001E\": \"Int64\", \n",
    "                                                        \"B25044_003E\": \"Int64\",\n",
    "                                                        \"B25044_010E\": \"Int64\"})\n",
    "vehicle_avail['Percent Households without Vehicle'] = (vehicle_avail[\"B25044_003E\"] + vehicle_avail[\"B25044_010E\"]) / vehicle_avail[\"B25044_001E\"]\n",
    "\n",
    "vehicle = vehicle_avail[['GEO_ID', 'Percent Households without Vehicle']]\n",
    "\n",
    "feature_mat = feature_mat.join(vehicle.set_index(\"GEO_ID\"), on='GEO_ID', how=\"left\")"
   ]
  },
  {
   "cell_type": "code",
   "execution_count": 10,
   "metadata": {},
   "outputs": [],
   "source": [
    "#Read in and modify room occupancy data; join to feature matrix \n",
    "occupants = pd.read_csv(\"occupants_per_room.csv\", dtype={\"B25014_005E\": \"Int64\", \n",
    "                                                        \"B25014_006E\": \"Int64\",\n",
    "                                                        \"B25014_007E\": \"Int64\", \n",
    "                                                        \"B25014_001E\": \"Int64\"})\n",
    "occupants['Household Level - More People than Rooms (%)'] = (occupants['B25014_005E'] + occupants['B25014_006E'] + occupants['B25014_007E']) / occupants['B25014_001E']\n",
    "\n",
    "\n",
    "occupants = occupants[[\"GEO_ID\", 'Household Level - More People than Rooms (%)']]\n",
    "feature_mat = feature_mat.join(occupants.set_index(\"GEO_ID\"), on='GEO_ID', how=\"left\")"
   ]
  },
  {
   "cell_type": "code",
   "execution_count": 11,
   "metadata": {},
   "outputs": [],
   "source": [
    "#Write feature matrix to csv \n",
    "feature_mat.to_csv(\"acs_features.csv\", index=False)"
   ]
  },
  {
   "cell_type": "code",
   "execution_count": 12,
   "metadata": {},
   "outputs": [],
   "source": [
    "#prep acs data file for merging with county health rankings file and CDC deaths data file"
   ]
  },
  {
   "cell_type": "code",
   "execution_count": 13,
   "metadata": {},
   "outputs": [],
   "source": [
    "acs_df = pd.read_csv('acs_features.csv')\n",
    "acs_df[\"acs_county_code\"]=acs_df[\"GEO_ID\"].str[-5:]"
   ]
  },
  {
   "cell_type": "code",
   "execution_count": 20,
   "metadata": {},
   "outputs": [],
   "source": [
    "ch_rankings_df = pd.read_csv('2020_County_Health_Rankings.csv',dtype=str)\n",
    "string_fips = ch_rankings_df['FIPS']\n",
    "\n",
    "ch_rankings_df2 = pd.read_csv('2020_County_Health_Rankings.csv')\n",
    "del ch_rankings_df2['FIPS']\n",
    "ch_rankings = pd.concat([string_fips,ch_rankings_df2],axis=1)"
   ]
  },
  {
   "cell_type": "code",
   "execution_count": 21,
   "metadata": {},
   "outputs": [],
   "source": [
    "merged_df = pd.merge(acs_df,ch_rankings,how='inner',left_on='acs_county_code', right_on='FIPS')"
   ]
  },
  {
   "cell_type": "markdown",
   "metadata": {},
   "source": [
    "### 3. Prep and Merge CDC Covid death data "
   ]
  },
  {
   "cell_type": "code",
   "execution_count": 22,
   "metadata": {},
   "outputs": [],
   "source": [
    "#prep CDC COVID-19 deaths data for merging\n",
    "cdc_deaths = pd.read_csv('CDC_county_deaths.csv')\n",
    "\n",
    "def add_zero(i):\n",
    "    j = \" \"\n",
    "    if len(str(i)) == 4:\n",
    "        j = \"0\"+str(i)\n",
    "    else:\n",
    "        j = str(i)\n",
    "    return j\n"
   ]
  },
  {
   "cell_type": "code",
   "execution_count": 23,
   "metadata": {},
   "outputs": [],
   "source": [
    "cdc_deaths['new_FIPS']=cdc_deaths['FIPS County Code'].map(add_zero)"
   ]
  },
  {
   "cell_type": "code",
   "execution_count": 24,
   "metadata": {},
   "outputs": [],
   "source": [
    "final_merged_df = pd.merge(merged_df,cdc_deaths,how='inner',left_on='acs_county_code', right_on='new_FIPS')"
   ]
  },
  {
   "cell_type": "code",
   "execution_count": 26,
   "metadata": {},
   "outputs": [],
   "source": [
    "#adding state code column for cross-validation\n",
    "final_merged_df['state_code']=final_merged_df[\"new_FIPS\"].str[:2]"
   ]
  },
  {
   "cell_type": "code",
   "execution_count": 28,
   "metadata": {},
   "outputs": [],
   "source": [
    "final_merged_df.to_csv('merged_county_data.csv')"
   ]
  }
 ],
 "metadata": {
  "kernelspec": {
   "display_name": "Python 3",
   "language": "python",
   "name": "python3"
  },
  "language_info": {
   "codemirror_mode": {
    "name": "ipython",
    "version": 3
   },
   "file_extension": ".py",
   "mimetype": "text/x-python",
   "name": "python",
   "nbconvert_exporter": "python",
   "pygments_lexer": "ipython3",
   "version": "3.8.3"
  }
 },
 "nbformat": 4,
 "nbformat_minor": 4
}
